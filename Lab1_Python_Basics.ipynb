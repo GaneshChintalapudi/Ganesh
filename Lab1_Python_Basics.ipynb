{
  "cells": [
    {
      "cell_type": "markdown",
      "metadata": {
        "id": "view-in-github",
        "colab_type": "text"
      },
      "source": [
        "<a href=\"https://colab.research.google.com/github/GaneshChintalapudi/Ganesh/blob/main/Lab1_Python_Basics.ipynb\" target=\"_parent\"><img src=\"https://colab.research.google.com/assets/colab-badge.svg\" alt=\"Open In Colab\"/></a>"
      ]
    },
    {
      "cell_type": "code",
      "execution_count": 9,
      "metadata": {
        "colab": {
          "base_uri": "https://localhost:8080/"
        },
        "id": "IkTpnf2mHiwj",
        "outputId": "5b18018d-fc05-4cdb-d0f7-3b00fe2122d6"
      },
      "outputs": [
        {
          "output_type": "stream",
          "name": "stdout",
          "text": [
            "Hello World...!\n"
          ]
        }
      ],
      "source": [
        "print(\"Hello World...!\") #python 3 syntax"
      ]
    },
    {
      "cell_type": "code",
      "execution_count": 10,
      "metadata": {
        "colab": {
          "base_uri": "https://localhost:8080/"
        },
        "id": "OJn1W_feHiwn",
        "outputId": "eb8c63cd-be5a-49c6-def4-71fd4531fce7"
      },
      "outputs": [
        {
          "output_type": "stream",
          "name": "stdout",
          "text": [
            "Hello\n"
          ]
        }
      ],
      "source": [
        "print (\"Hello\" )\n",
        "#Python 2 syntax"
      ]
    },
    {
      "cell_type": "code",
      "execution_count": 11,
      "metadata": {
        "colab": {
          "base_uri": "https://localhost:8080/"
        },
        "id": "FQcQgRAJHiwn",
        "outputId": "7198c391-2ed6-43df-8b8e-fcaec90cca6d"
      },
      "outputs": [
        {
          "output_type": "execute_result",
          "data": {
            "text/plain": [
              "15"
            ]
          },
          "metadata": {},
          "execution_count": 11
        }
      ],
      "source": [
        "5+10"
      ]
    },
    {
      "cell_type": "code",
      "execution_count": 12,
      "metadata": {
        "colab": {
          "base_uri": "https://localhost:8080/"
        },
        "id": "7p19bx91Hiwo",
        "outputId": "5efe782d-8801-4d23-c32f-bc673502dd85"
      },
      "outputs": [
        {
          "output_type": "stream",
          "name": "stdout",
          "text": [
            "[1, 2, 3, 4, 5]\n",
            "3\n",
            "[3, 4]\n"
          ]
        },
        {
          "output_type": "execute_result",
          "data": {
            "text/plain": [
              "5"
            ]
          },
          "metadata": {},
          "execution_count": 12
        }
      ],
      "source": [
        "numbers=[1,2,3,4,5] #list data structure\n",
        "print(numbers)\n",
        "print(numbers[2])\n",
        "print(numbers[2:4]) # : slicing operator\n",
        "numbers[-1]"
      ]
    },
    {
      "cell_type": "code",
      "execution_count": 13,
      "metadata": {
        "id": "aonvKbslHiwo"
      },
      "outputs": [],
      "source": [
        "import math\n",
        "import random\n",
        "import math as m\n",
        "from math import *"
      ]
    },
    {
      "cell_type": "code",
      "execution_count": 14,
      "metadata": {
        "colab": {
          "base_uri": "https://localhost:8080/"
        },
        "id": "if-380QOHiwp",
        "outputId": "1c14278b-a3a5-4ffe-b26d-c0676ac0a7bd"
      },
      "outputs": [
        {
          "output_type": "execute_result",
          "data": {
            "text/plain": [
              "3.0"
            ]
          },
          "metadata": {},
          "execution_count": 14
        }
      ],
      "source": [
        "math.sqrt(9)"
      ]
    },
    {
      "cell_type": "code",
      "execution_count": 15,
      "metadata": {
        "colab": {
          "base_uri": "https://localhost:8080/"
        },
        "id": "oshdiGRMHiwp",
        "outputId": "7d451dfb-2ff1-4c03-e223-47c2c3b11dab"
      },
      "outputs": [
        {
          "output_type": "stream",
          "name": "stdout",
          "text": [
            "3.0\n",
            "3.141592653589793\n",
            "8.0\n",
            "10\n",
            "5\n",
            "1\n",
            "-0.3048106211022167\n",
            "2.718281828459045\n",
            "1.3862943611198906\n",
            "2.0\n",
            "23.46\n",
            "0.9746077063538454\n"
          ]
        }
      ],
      "source": [
        "print(math.sqrt(9))\n",
        "print(math.pi)\n",
        "print(math.pow(2,3))\n",
        "print(abs(-10))\n",
        "print(max(1,2,3,4,5))\n",
        "print(min(1,2,3,4,5))\n",
        "print(math.sin(60))\n",
        "print(math.e)\n",
        "print(math.log(4))\n",
        "print(math.log10(100))\n",
        "print(round(23.45678,2))\n",
        "print(random.random())"
      ]
    },
    {
      "cell_type": "code",
      "execution_count": 16,
      "metadata": {
        "colab": {
          "base_uri": "https://localhost:8080/"
        },
        "id": "ViZ8WdFSHiwq",
        "outputId": "ef4b5636-7acf-4938-ebff-869c67d08bd3"
      },
      "outputs": [
        {
          "output_type": "stream",
          "name": "stdout",
          "text": [
            "0.15195930094819488\n"
          ]
        }
      ],
      "source": [
        "print(random.random())"
      ]
    },
    {
      "cell_type": "markdown",
      "source": [
        "#https://docs.python.org/3.1/library/random.html\n",
        "The  module random  implements pseudo-random number generators for various distributions.  \n",
        "random() is the most basic function of the random module.\n",
        "Almost all functions of the random module depend on the basic function random().\n",
        "random() return the next random floating-point number in the range [0.0, 1.0).   "
      ],
      "metadata": {
        "id": "3qmHZBDeTak5"
      }
    },
    {
      "cell_type": "markdown",
      "source": [],
      "metadata": {
        "id": "OZS4H10TTaRY"
      }
    },
    {
      "cell_type": "code",
      "execution_count": 27,
      "metadata": {
        "colab": {
          "base_uri": "https://localhost:8080/"
        },
        "id": "iQk2GuIaHiwr",
        "outputId": "63ca3748-e51e-4428-c901-b7ce9cd7bc9d"
      },
      "outputs": [
        {
          "output_type": "execute_result",
          "data": {
            "text/plain": [
              "6"
            ]
          },
          "metadata": {},
          "execution_count": 27
        }
      ],
      "source": [
        "random.randint(0.0, 9.0)"
      ]
    },
    {
      "cell_type": "code",
      "execution_count": 34,
      "metadata": {
        "colab": {
          "base_uri": "https://localhost:8080/"
        },
        "id": "G2Nl7m3uHiwr",
        "outputId": "530d3529-e519-454d-a768-6b84d3268ba2"
      },
      "outputs": [
        {
          "output_type": "execute_result",
          "data": {
            "text/plain": [
              "[2, 4, 5, 1, 4]"
            ]
          },
          "metadata": {},
          "execution_count": 34
        }
      ],
      "source": [
        "random.sample([1,2,3,4,5,1,2,3,4,5,1,2,3,4,5], 5)\n",
        "#Return a k length list of unique elements chosen from the population sequence or set. Used for random sampling without replacement."
      ]
    },
    {
      "cell_type": "code",
      "execution_count": 33,
      "metadata": {
        "colab": {
          "base_uri": "https://localhost:8080/",
          "height": 134
        },
        "id": "eC0nkBkiHiwr",
        "outputId": "34d8aa4b-96ad-4d4b-ec8c-d7d1a4562bcb"
      },
      "outputs": [
        {
          "output_type": "error",
          "ename": "SyntaxError",
          "evalue": "ignored",
          "traceback": [
            "\u001b[0;36m  File \u001b[0;32m\"<ipython-input-33-3ff2d409b03f>\"\u001b[0;36m, line \u001b[0;32m3\u001b[0m\n\u001b[0;31m    >>> random.uniform(1, 10)  # Random float x, 1.0 <= x < 10.0\u001b[0m\n\u001b[0m    ^\u001b[0m\n\u001b[0;31mSyntaxError\u001b[0m\u001b[0;31m:\u001b[0m invalid syntax\n"
          ]
        }
      ],
      "source": [
        "random.random()        # Random float x, 0.0 <= x < 1.0\n",
        "0.37444887175646646\n",
        ">>> random.uniform(1, 10)  # Random float x, 1.0 <= x < 10.0\n",
        "1.1800146073117523\n",
        ">>> random.randint(1, 10)  # Integer from 1 to 10, endpoints included\n",
        "7\n",
        ">>> random.randrange(0, 101, 2)  # Even integer from 0 to 100\n",
        "26\n",
        ">>> random.choice('abcdefghij')  # Choose a random element\n",
        "'c'\n",
        "\n",
        ">>> items = [1, 2, 3, 4, 5, 6, 7]\n",
        ">>> random.shuffle(items)\n",
        ">>> items\n",
        "[7, 3, 2, 5, 6, 4, 1]\n",
        "\n",
        ">>> random.sample([1, 2, 3, 4, 5],  3)  # Choose 3 elements\n",
        "[4, 1, 5]"
      ]
    },
    {
      "cell_type": "code",
      "execution_count": null,
      "metadata": {
        "id": "vwzgi5XwHiws"
      },
      "outputs": [],
      "source": [
        "nums=[1,2,3,4,5]\n",
        "print(random.choice(nums))"
      ]
    },
    {
      "cell_type": "code",
      "execution_count": null,
      "metadata": {
        "id": "BpACHSXUHiws"
      },
      "outputs": [],
      "source": [
        "random.shuffle(nums)\n",
        "print(nums)"
      ]
    },
    {
      "cell_type": "code",
      "execution_count": null,
      "metadata": {
        "id": "R8kVOJTAHiwt"
      },
      "outputs": [],
      "source": [
        "print(random.randrange(1,100,1))"
      ]
    },
    {
      "cell_type": "code",
      "execution_count": null,
      "metadata": {
        "id": "HDSEA6w7Hiwt"
      },
      "outputs": [],
      "source": [
        "import math\n",
        "num = int(input(\"Enter a number: \"))\n",
        "\n",
        "# prime numbers are greater than 1\n",
        "if num > 1:\n",
        "   # check for factors\n",
        "   for i in range(2,(num//2)+1):\n",
        "       if (num % i) == 0:\n",
        "           print(num,\"is not a prime number\")\n",
        "           break\n",
        "   else:\n",
        "       print(num,\"is a prime number\")\n",
        "       \n",
        "# if input number is less than\n",
        "# or equal to 1, it is not prime\n",
        "else:\n",
        "   print(num,\"is not a prime number\")"
      ]
    },
    {
      "cell_type": "code",
      "execution_count": null,
      "metadata": {
        "id": "duicJD7uHiwt"
      },
      "outputs": [],
      "source": [
        "num =5\n",
        "print(num//2)\n",
        "print(num/2)\n",
        "type(num//2)"
      ]
    },
    {
      "cell_type": "code",
      "execution_count": null,
      "metadata": {
        "id": "8jis-txWHiwu"
      },
      "outputs": [],
      "source": [
        "age=10\n",
        "gender='male'\n",
        "section='MTech'\n",
        "height=6.2\n",
        "Gender=20\n",
        "AGE=50\n",
        "_=10\n",
        "print(age,gender,section,height,Gender,AGE,_)"
      ]
    },
    {
      "cell_type": "code",
      "execution_count": null,
      "metadata": {
        "id": "8NvYQOrWHiwu"
      },
      "outputs": [],
      "source": [
        "x,y,z=1,2.5,\"kiran\"\n",
        "print(x,y,z)"
      ]
    },
    {
      "cell_type": "code",
      "execution_count": null,
      "metadata": {
        "id": "_h3EB3pvHiwu"
      },
      "outputs": [],
      "source": [
        "\n",
        "\"\"\"\n",
        "Standard datatypes in python\n",
        "1. Numbers\n",
        "2. String\n",
        "3. List\n",
        "4. Tuple\n",
        "5. Dictionary\n",
        "\n",
        "Python supports 4 numerical types\n",
        "1. int\n",
        "2. float\n",
        "3. long\n",
        "4. complex\n",
        "\"\"\";\n"
      ]
    },
    {
      "cell_type": "code",
      "execution_count": null,
      "metadata": {
        "id": "fogxypWBHiwu"
      },
      "outputs": [],
      "source": [
        "print(\"*****Creating and deleting object references*******\")\n",
        "var=10\n",
        "print(var)\n",
        "del var # del keyword used to delete the object reference.\n",
        "print(var)"
      ]
    },
    {
      "cell_type": "code",
      "execution_count": null,
      "metadata": {
        "id": "RD_HWYyyHiwv"
      },
      "outputs": [],
      "source": [
        "print(\"******Experiment on String type*******\")\n",
        "str = 'Hello World..!'\n",
        "print(str)          # Prints complete string\n",
        "print(str[0])       # Prints first character of the string\n",
        "print(str[2:5])     # Prints characters starting from 3rd to 5th\n",
        "print(str[2:])      # Prints string starting from 3rd character\n",
        "print(str * 2)      # Prints string two times\n",
        "print(str + \"TEST\") # Prints concatenated string"
      ]
    },
    {
      "cell_type": "code",
      "execution_count": null,
      "metadata": {
        "id": "8yqct-A1Hiwv"
      },
      "outputs": [],
      "source": [
        "print(\"******Python List type**********\")\n",
        "list = [ 'abcd', 786 , 2.23, 'john', 70.2 ]\n",
        "tinylist = [123, 'john']\n",
        "\n",
        "print(list)          # Prints complete list\n",
        "print(list[0])       # Prints first element of the list\n",
        "print(list[1:3])     # Prints elements starting from 2nd till 4th \n",
        "print(list[2:])      # Prints elements starting from 3rd element\n",
        "print(tinylist * 2)  # Prints list two times\n",
        "print(list + tinylist) # Prints concatenated lists"
      ]
    },
    {
      "cell_type": "code",
      "execution_count": null,
      "metadata": {
        "id": "pVoHBPiFHiwv"
      },
      "outputs": [],
      "source": [
        "print(\"******Python Tuple type**********\")\n",
        "tuple = ( 'abcd', 786 , 2.23, 'john', 70.2  )\n",
        "tinytuple = (123, 'john')\n",
        "\n",
        "print(tuple)           # Prints complete list\n",
        "print(tuple[0])        # Prints first element of the list\n",
        "print(tuple[1:3])      # Prints elements starting from 2nd till 3rd \n",
        "print(tuple[2:])       # Prints elements starting from 3rd element\n",
        "print(tinytuple * 2)   # Prints list two times\n",
        "print(tuple + tinytuple) # Prints concatenated lists"
      ]
    },
    {
      "cell_type": "code",
      "execution_count": null,
      "metadata": {
        "id": "fa6ykjG9Hiww"
      },
      "outputs": [],
      "source": [
        "print(\"*****difference between list and tuple\")\n",
        "#Difference between list and tuple\n",
        "tuple[2] = 1000    # Invalid syntax with tuple"
      ]
    },
    {
      "cell_type": "code",
      "execution_count": null,
      "metadata": {
        "id": "O6vhSBMVHiww"
      },
      "outputs": [],
      "source": [
        "list[2] = 1000     # Valid syntax with list\n",
        "print(\"list is \",list)\n",
        "print(\"tuple is\",tuple)"
      ]
    },
    {
      "cell_type": "code",
      "execution_count": null,
      "metadata": {
        "id": "Mgd-Ac5KHiww"
      },
      "outputs": [],
      "source": [
        "print(\"******Python Dictionary Type**********\")\n",
        "\"\"\"\n",
        "Dictionaries are enclosed by curly braces ({ }) and values can be \n",
        "assigned and accessed using square braces ([]).\n",
        "\"\"\"\n",
        "dict = {}\n",
        "tinydict = {'name': 'john','code':6734, 'dept': 'sales'}\n",
        "\n",
        "#keys can be any python data type generally numbers and strings.\n",
        "\n",
        "print(tinydict)          # Prints complete dictionary\n",
        "print(tinydict.keys())  # Prints all the keys\n",
        "print(tinydict.values()) # Prints all the values"
      ]
    },
    {
      "cell_type": "code",
      "execution_count": null,
      "metadata": {
        "id": "URFiHBwQHiww"
      },
      "outputs": [],
      "source": []
    }
  ],
  "metadata": {
    "kernelspec": {
      "display_name": "Python 3",
      "language": "python",
      "name": "python3"
    },
    "language_info": {
      "codemirror_mode": {
        "name": "ipython",
        "version": 3
      },
      "file_extension": ".py",
      "mimetype": "text/x-python",
      "name": "python",
      "nbconvert_exporter": "python",
      "pygments_lexer": "ipython3",
      "version": "3.7.6"
    },
    "colab": {
      "provenance": [],
      "include_colab_link": true
    }
  },
  "nbformat": 4,
  "nbformat_minor": 0
}